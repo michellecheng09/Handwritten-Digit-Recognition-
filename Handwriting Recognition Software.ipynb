{
 "cells": [
  {
   "cell_type": "markdown",
   "metadata": {},
   "source": [
    "#Handwriting Recognition Software\n",
    "\n",
    "Prepared by \n",
    "Group 10\n",
    "Michelle Cheng 100696572\n",
    "Evans Mosomi 100719552\n",
    "Martins Babajide 100709716\n",
    "Haider Sarmad 100622306\n",
    "\n",
    "Prepared for \n",
    "SOFE 3720 Winter 2021\n",
    "Artificial Intelligence\n",
    "\n"
   ]
  },
  {
   "cell_type": "code",
   "execution_count": null,
   "metadata": {},
   "outputs": [],
   "source": [
    "!pip install Keras"
   ]
  },
  {
   "cell_type": "code",
   "execution_count": null,
   "metadata": {},
   "outputs": [],
   "source": [
    "!pip install tensorflow"
   ]
  },
  {
   "cell_type": "code",
   "execution_count": null,
   "metadata": {},
   "outputs": [],
   "source": [
    "!pip install opencv-python"
   ]
  },
  {
   "cell_type": "markdown",
   "metadata": {},
   "source": [
    "from tkinter import * \n",
    "import PIL \n",
    "from PIL import Image, ImageDraw \n",
    "import tensorflow as tf\n",
    "import cv2"
   ]
  },
  {
   "cell_type": "code",
   "execution_count": null,
   "metadata": {},
   "outputs": [],
   "source": [
    "from tkinter import *\n",
    "import PIL\n",
    "from PIL import Image, ImageDraw\n",
    "import tensorflow as tf\n",
    "import matplotlib.pyplot as plt\n",
    "import cv2\n",
    "import pandas as pd\n",
    "import numpy as np\n",
    "from matplotlib import pyplot as plt\n",
    "from tensorflow.keras.models import Sequential\n",
    "from tensorflow.keras.layers import Dense, Dropout, Activation, Flatten, Conv2D, MaxPooling2D\n",
    "from keras.utils.np_utils import to_categorical\n",
    "from keras.optimizers import Adam\n",
    "import numpy as np"
   ]
  },
  {
   "cell_type": "code",
   "execution_count": null,
   "metadata": {},
   "outputs": [],
   "source": [
    "mnist = tf.keras.datasets.mnist \n",
    "#contains handwritten characters \n",
    "(x_train, y_train),(x_test, y_test) = mnist.load_data()\n",
    "x_train.shape"
   ]
  },
  {
   "cell_type": "code",
   "execution_count": null,
   "metadata": {},
   "outputs": [],
   "source": [
    "import matplotlib.pyplot as plt\n",
    "plt.imshow(x_train[0],cmap=\"gray\")\n",
    "plt.show() #used to execute the graph\n",
    "#plotting the graph\n",
    "plt.imshow(x_train[0], cmap = plt.cm.binary)\n",
    "#normalizing the data \n",
    "x_train = tf.keras.utils.normalize (x_train, axis = 1)\n",
    "x_test = tf.keras.utils.normalize(x_test, axis=1)\n",
    "plt.imshow(x_train[0], cmap = plt.cm.binary)\n",
    "print (y_train[0])"
   ]
  },
  {
   "cell_type": "code",
   "execution_count": null,
   "metadata": {},
   "outputs": [],
   "source": [
    "\n",
    "IMG_SIZE=28\n",
    "x_train= np.array(x_train).reshape(60000, IMG_SIZE, IMG_SIZE,1)\n",
    "x_test= np.array(x_test).reshape(10000, IMG_SIZE, IMG_SIZE,1)\n",
    "\n",
    "print (\"training dimension: {}\".format(x_train.shape))\n",
    "print (\"training dimension: {}\".format(y_train.shape))\n",
    "print (\"training dimension: {}\".format(x_test.shape))\n",
    "print (\"training dimension: {}\".format(y_test.shape))"
   ]
  },
  {
   "cell_type": "code",
   "execution_count": null,
   "metadata": {},
   "outputs": [],
   "source": [
    "y_train=to_categorical(y_train)\n",
    "y_test=to_categorical(y_test)"
   ]
  },
  {
   "cell_type": "code",
   "execution_count": null,
   "metadata": {},
   "outputs": [],
   "source": [
    "model = Sequential()\n",
    "\n",
    "#first convolution layer\n",
    "model.add(Conv2D(32, (3,3), input_shape = (28,28,1)))\n",
    "model.add(Activation(\"relu\"))\n",
    "model.add(MaxPooling2D(pool_size=(2,2)))\n",
    "\n",
    "#second convolution layer\n",
    "model.add(Conv2D(64, (3,3)))\n",
    "model.add(Activation(\"relu\"))\n",
    "model.add(MaxPooling2D(pool_size=(2,2)))\n",
    "\n",
    "#connected layer for 2 \n",
    "model.add (Flatten())\n",
    "\n",
    "#last fully connected layer \n",
    "model.add(Dense(10))\n",
    "model.add(Activation('softmax'))\n"
   ]
  },
  {
   "cell_type": "code",
   "execution_count": null,
   "metadata": {},
   "outputs": [],
   "source": [
    "model.summary()"
   ]
  },
  {
   "cell_type": "code",
   "execution_count": null,
   "metadata": {},
   "outputs": [],
   "source": [
    "print (\"Total Training Samples = \",len(x_train))"
   ]
  },
  {
   "cell_type": "code",
   "execution_count": null,
   "metadata": {},
   "outputs": [],
   "source": [
    "model.compile(loss = \"categorical_crossentropy\", optimizer = \"adam\", metrics=['accuracy'])"
   ]
  },
  {
   "cell_type": "code",
   "execution_count": null,
   "metadata": {},
   "outputs": [],
   "source": [
    "#training model \n",
    "model.fit(x_train,y_train,epochs=5, validation_data= (x_test,y_test))"
   ]
  },
  {
   "cell_type": "code",
   "execution_count": null,
   "metadata": {},
   "outputs": [],
   "source": [
    "test_loss, test_acc = model.evaluate(x_test, y_test)\n",
    "print (\"Test loss on test samples\", test_loss)\n",
    "print (\"Validation Accuracy on 10,000 test samples\", test_acc)"
   ]
  },
  {
   "cell_type": "code",
   "execution_count": null,
   "metadata": {},
   "outputs": [],
   "source": [
    "example=x_train[108]\n",
    "prediction = model.predict(example.reshape(1,28,28,1))\n",
    "print (\"Prediction (softmax):\\n{}\".format(prediction))\n",
    "\n",
    "hard_prediction = np.zeros(prediction.shape)\n",
    "hard_prediction[0][np.argmax(prediction)] = 1\n",
    "print (\"Prediction (hardmax):\\n{}\".format(hard_prediction))\n",
    "\n",
    "plt.imshow(example.reshape(28,28),cmap=\"gray\")\n",
    "plt.show()\n",
    "\n",
    "print(\"Final output: {}\".format(np.argmax(prediction)))"
   ]
  },
  {
   "cell_type": "code",
   "execution_count": null,
   "metadata": {},
   "outputs": [],
   "source": [
    "global predictions\n",
    "global padded \n",
    "global counter\n",
    "predictions = []\n",
    "padded=[]\n",
    "\n",
    "image1=PIL.Image.new('RGB',(600,400),'white')\n",
    "draw=ImageDraw.Draw(image1)\n",
    "\n",
    "def detection(img_num): \n",
    "    global predictions \n",
    "    global padded\n",
    "    global counter \n",
    "    \n",
    "    counter=0\n",
    "    #load image file \n",
    "    filename=f'image_{img_num}.png'\n",
    "    img=cv2.imread(filename)\n",
    "    print(\"Image file loaded.\")\n",
    "    plt.imshow(img)\n",
    "    \n",
    "    #Pad the digits in the image and load into list \n",
    "    gray = cv2.cvtColor(img, cv2.COLOR_BGR2GRAY)\n",
    "    ret,thresh=cv2.threshold(gray.copy(),28,28,cv2.THRESH_BINARY_INV)\n",
    "    contours,_=cv2.findContours(thresh.copy(),cv2.RETR_EXTERNAL,cv2.CHAIN_APPROX_SIMPLE)\n",
    "    for c in contours:\n",
    "        x,y,w,h=cv2.boundingRect(c)\n",
    "        cv2.rectangle(img,(x,y),(x+w,y+h),color=(0,255,0),thickness=2)\n",
    "        digit=thresh[y:y+h,x:x+w]\n",
    "        resized_digit=cv2.resize(digit,(18,18))\n",
    "        padded_digit=np.pad(resized_digit,((5,5),(5,5)),\"constant\",constant_values=0)\n",
    "        padded.append(padded_digit)\n",
    "    plt.imshow(img,cmap=\"gray\")\n",
    "    plt.show()\n",
    "    inp=np.array(padded)\n",
    "    \n",
    "    #pre process each image in list for classification \n",
    "    for digit in padded:\n",
    "        counter=counter+1\n",
    "        detected = model.predict(digit.reshape(1,28,28,1))\n",
    "        o.insert(END,(str(np.argmax(detected))))\n",
    "        plt.imshow(digit.reshape(28,28),cmap=\"gray\")\n",
    "        plt.show()\n",
    "        predictions.append(format(np.argmax(detected)))\n",
    "        print(\"Current predictions: {}\".format(predictions))\n",
    "    \n",
    "def paint(event):\n",
    "    global lastx, lasty\n",
    "    x, y = event.x, event.y\n",
    "    c.create_line((lastx, lasty, x, y), fill='black',width=5)\n",
    "    draw.line((lastx, lasty, x, y), fill='black', width=5)\n",
    "    lastx, lasty = x, y\n",
    "\n",
    "def activate(event):\n",
    "    global lastx, lasty\n",
    "    c.bind('<B1-Motion>',paint)\n",
    "    lastx,lasty=event.x,event.y\n",
    "    \n",
    "def save():\n",
    "    global img_num \n",
    "    filename=f'image_{img_num}.png'\n",
    "    image1.save(filename)\n",
    "    detection(img_num)\n",
    "    img_num +=1\n",
    "\n",
    "def clear():\n",
    "    global padded\n",
    "    padded.clear()\n",
    "    c.delete(ALL)\n",
    "    o.delete(\"1.0\",\"end\")\n",
    "    draw.rectangle((0, 0, 600, 400), fill=\"white\")\n",
    "    \n",
    "def incorrect():\n",
    "    global counter \n",
    "    global predictions \n",
    "    global padded\n",
    "    \n",
    "    predictions=predictions[:len(predictions)-counter]\n",
    "    print(\"Revised predictions: {}\".format(predictions))\n",
    "    \n",
    "    c.delete(ALL)\n",
    "    o.delete(\"1.0\",\"end\")\n",
    "    draw.rectangle((0, 0, 600, 400), fill=\"white\")\n",
    "    padded.clear()\n",
    "    counter=0\n",
    "\n",
    "def result():\n",
    "    print(\"Final prediction list: {}\".format(predictions))\n",
    "    o.insert(END,(str(np.argmax(predictions))))\n",
    "    \n",
    "window=Tk()\n",
    "window.title(\"Handwriting Recognition\")\n",
    "message=Label(window,text='Draw some numbers below')\n",
    "message.pack(side=TOP)\n",
    "lastx,lasty=None,None\n",
    "img_num=0\n",
    "counter=0\n",
    "\n",
    "c=Canvas(window,width=600,height=400, bg='white')\n",
    "c.bind('<1>',activate)\n",
    "c.pack(expand=YES, fill=BOTH)\n",
    "\n",
    "message=Label(window,text='Output box:')\n",
    "message.pack(side=TOP)\n",
    "o=Text(window,width=20,height=2,bg='light cyan')\n",
    "o.pack()\n",
    "\n",
    "button_save=Button(window,text=\"Save\",width=25,command=save)\n",
    "button_save.pack()\n",
    "\n",
    "button_clear=Button(window,text=\"Clear screen\",width=25,command=clear)\n",
    "button_clear.pack()\n",
    "\n",
    "button_incorrect=Button(window,text=\"Incorrect\",width=25,command=incorrect)\n",
    "button_incorrect.pack()\n",
    "\n",
    "button_result=Button(window,text=\"Final list\",width=25,command=result)\n",
    "button_result.pack()\n",
    "\n",
    "message=Label(window,text='Click save after your drawing.\\n If output is correct, clear screen and draw again. Number(s) will be added to list.\\n Otherwise click incorrect if prediction is wrong and number will be erased from list.')\n",
    "message.pack(side=TOP)\n",
    "window.mainloop()"
   ]
  },
  {
   "cell_type": "code",
   "execution_count": null,
   "metadata": {},
   "outputs": [],
   "source": []
  }
 ],
 "metadata": {
  "kernelspec": {
   "display_name": "Python 3",
   "language": "python",
   "name": "python3"
  },
  "language_info": {
   "codemirror_mode": {
    "name": "ipython",
    "version": 3
   },
   "file_extension": ".py",
   "mimetype": "text/x-python",
   "name": "python",
   "nbconvert_exporter": "python",
   "pygments_lexer": "ipython3",
   "version": "3.8.5"
  }
 },
 "nbformat": 4,
 "nbformat_minor": 4
}
