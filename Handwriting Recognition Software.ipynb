{
 "cells": [
  {
   "cell_type": "markdown",
   "metadata": {},
   "source": [
    "#Handwriting Recognition Software\n",
    "\n",
    "Prepared by \n",
    "Group 10\n",
    "Michelle Cheng 100696572\n",
    "Evans Mosomi 100719552\n",
    "Martins Babajide 100709716\n",
    "Haider Sarmad 100622306\n",
    "\n",
    "Prepared for \n",
    "SOFE 3720 Winter 2021\n",
    "Artificial Intelligence\n",
    "\n"
   ]
  },
  {
   "cell_type": "code",
   "execution_count": 1,
   "metadata": {},
   "outputs": [
    {
     "name": "stdout",
     "output_type": "stream",
     "text": [
      "Requirement already satisfied: Keras in c:\\users\\miche\\anaconda3\\lib\\site-packages (2.4.3)\n",
      "Requirement already satisfied: numpy>=1.9.1 in c:\\users\\miche\\anaconda3\\lib\\site-packages (from Keras) (1.19.2)\n",
      "Requirement already satisfied: h5py in c:\\users\\miche\\anaconda3\\lib\\site-packages (from Keras) (2.10.0)\n",
      "Requirement already satisfied: scipy>=0.14 in c:\\users\\miche\\anaconda3\\lib\\site-packages (from Keras) (1.5.2)\n",
      "Requirement already satisfied: pyyaml in c:\\users\\miche\\anaconda3\\lib\\site-packages (from Keras) (5.3.1)\n",
      "Requirement already satisfied: six in c:\\users\\miche\\anaconda3\\lib\\site-packages (from h5py->Keras) (1.15.0)\n"
     ]
    }
   ],
   "source": [
    "!pip install Keras"
   ]
  },
  {
   "cell_type": "code",
   "execution_count": 2,
   "metadata": {},
   "outputs": [
    {
     "name": "stdout",
     "output_type": "stream",
     "text": [
      "Requirement already satisfied: tensorflow in c:\\users\\miche\\anaconda3\\lib\\site-packages (2.4.1)\n",
      "Requirement already satisfied: termcolor~=1.1.0 in c:\\users\\miche\\anaconda3\\lib\\site-packages (from tensorflow) (1.1.0)\n",
      "Requirement already satisfied: google-pasta~=0.2 in c:\\users\\miche\\anaconda3\\lib\\site-packages (from tensorflow) (0.2.0)\n",
      "Requirement already satisfied: absl-py~=0.10 in c:\\users\\miche\\anaconda3\\lib\\site-packages (from tensorflow) (0.12.0)\n",
      "Requirement already satisfied: six~=1.15.0 in c:\\users\\miche\\anaconda3\\lib\\site-packages (from tensorflow) (1.15.0)\n",
      "Requirement already satisfied: tensorflow-estimator<2.5.0,>=2.4.0 in c:\\users\\miche\\anaconda3\\lib\\site-packages (from tensorflow) (2.4.0)\n",
      "Requirement already satisfied: keras-preprocessing~=1.1.2 in c:\\users\\miche\\anaconda3\\lib\\site-packages (from tensorflow) (1.1.2)\n",
      "Requirement already satisfied: numpy~=1.19.2 in c:\\users\\miche\\anaconda3\\lib\\site-packages (from tensorflow) (1.19.2)\n",
      "Requirement already satisfied: h5py~=2.10.0 in c:\\users\\miche\\anaconda3\\lib\\site-packages (from tensorflow) (2.10.0)\n",
      "Requirement already satisfied: flatbuffers~=1.12.0 in c:\\users\\miche\\anaconda3\\lib\\site-packages (from tensorflow) (1.12)\n",
      "Requirement already satisfied: typing-extensions~=3.7.4 in c:\\users\\miche\\anaconda3\\lib\\site-packages (from tensorflow) (3.7.4.3)\n",
      "Requirement already satisfied: wheel~=0.35 in c:\\users\\miche\\anaconda3\\lib\\site-packages (from tensorflow) (0.35.1)\n",
      "Requirement already satisfied: astunparse~=1.6.3 in c:\\users\\miche\\anaconda3\\lib\\site-packages (from tensorflow) (1.6.3)\n",
      "Requirement already satisfied: opt-einsum~=3.3.0 in c:\\users\\miche\\anaconda3\\lib\\site-packages (from tensorflow) (3.3.0)\n",
      "Requirement already satisfied: protobuf>=3.9.2 in c:\\users\\miche\\anaconda3\\lib\\site-packages (from tensorflow) (3.15.6)\n",
      "Requirement already satisfied: gast==0.3.3 in c:\\users\\miche\\anaconda3\\lib\\site-packages (from tensorflow) (0.3.3)\n",
      "Requirement already satisfied: tensorboard~=2.4 in c:\\users\\miche\\anaconda3\\lib\\site-packages (from tensorflow) (2.4.1)\n",
      "Requirement already satisfied: grpcio~=1.32.0 in c:\\users\\miche\\anaconda3\\lib\\site-packages (from tensorflow) (1.32.0)\n",
      "Requirement already satisfied: wrapt~=1.12.1 in c:\\users\\miche\\anaconda3\\lib\\site-packages (from tensorflow) (1.12.1)\n",
      "Requirement already satisfied: setuptools>=41.0.0 in c:\\users\\miche\\anaconda3\\lib\\site-packages (from tensorboard~=2.4->tensorflow) (50.3.1.post20201107)\n",
      "Requirement already satisfied: requests<3,>=2.21.0 in c:\\users\\miche\\anaconda3\\lib\\site-packages (from tensorboard~=2.4->tensorflow) (2.24.0)\n",
      "Requirement already satisfied: werkzeug>=0.11.15 in c:\\users\\miche\\anaconda3\\lib\\site-packages (from tensorboard~=2.4->tensorflow) (1.0.1)\n",
      "Requirement already satisfied: tensorboard-plugin-wit>=1.6.0 in c:\\users\\miche\\anaconda3\\lib\\site-packages (from tensorboard~=2.4->tensorflow) (1.8.0)\n",
      "Requirement already satisfied: google-auth-oauthlib<0.5,>=0.4.1 in c:\\users\\miche\\anaconda3\\lib\\site-packages (from tensorboard~=2.4->tensorflow) (0.4.3)\n",
      "Requirement already satisfied: google-auth<2,>=1.6.3 in c:\\users\\miche\\anaconda3\\lib\\site-packages (from tensorboard~=2.4->tensorflow) (1.28.0)\n",
      "Requirement already satisfied: markdown>=2.6.8 in c:\\users\\miche\\anaconda3\\lib\\site-packages (from tensorboard~=2.4->tensorflow) (3.3.4)\n",
      "Requirement already satisfied: urllib3!=1.25.0,!=1.25.1,<1.26,>=1.21.1 in c:\\users\\miche\\anaconda3\\lib\\site-packages (from requests<3,>=2.21.0->tensorboard~=2.4->tensorflow) (1.25.11)\n",
      "Requirement already satisfied: chardet<4,>=3.0.2 in c:\\users\\miche\\anaconda3\\lib\\site-packages (from requests<3,>=2.21.0->tensorboard~=2.4->tensorflow) (3.0.4)\n",
      "Requirement already satisfied: idna<3,>=2.5 in c:\\users\\miche\\anaconda3\\lib\\site-packages (from requests<3,>=2.21.0->tensorboard~=2.4->tensorflow) (2.10)\n",
      "Requirement already satisfied: certifi>=2017.4.17 in c:\\users\\miche\\anaconda3\\lib\\site-packages (from requests<3,>=2.21.0->tensorboard~=2.4->tensorflow) (2020.6.20)\n",
      "Requirement already satisfied: requests-oauthlib>=0.7.0 in c:\\users\\miche\\anaconda3\\lib\\site-packages (from google-auth-oauthlib<0.5,>=0.4.1->tensorboard~=2.4->tensorflow) (1.3.0)\n",
      "Requirement already satisfied: cachetools<5.0,>=2.0.0 in c:\\users\\miche\\anaconda3\\lib\\site-packages (from google-auth<2,>=1.6.3->tensorboard~=2.4->tensorflow) (4.2.1)\n",
      "Requirement already satisfied: pyasn1-modules>=0.2.1 in c:\\users\\miche\\anaconda3\\lib\\site-packages (from google-auth<2,>=1.6.3->tensorboard~=2.4->tensorflow) (0.2.8)\n",
      "Requirement already satisfied: rsa<5,>=3.1.4; python_version >= \"3.6\" in c:\\users\\miche\\anaconda3\\lib\\site-packages (from google-auth<2,>=1.6.3->tensorboard~=2.4->tensorflow) (4.7.2)\n",
      "Requirement already satisfied: oauthlib>=3.0.0 in c:\\users\\miche\\anaconda3\\lib\\site-packages (from requests-oauthlib>=0.7.0->google-auth-oauthlib<0.5,>=0.4.1->tensorboard~=2.4->tensorflow) (3.1.0)\n",
      "Requirement already satisfied: pyasn1<0.5.0,>=0.4.6 in c:\\users\\miche\\anaconda3\\lib\\site-packages (from pyasn1-modules>=0.2.1->google-auth<2,>=1.6.3->tensorboard~=2.4->tensorflow) (0.4.8)\n"
     ]
    }
   ],
   "source": [
    "!pip install tensorflow"
   ]
  },
  {
   "cell_type": "code",
   "execution_count": 3,
   "metadata": {},
   "outputs": [
    {
     "name": "stdout",
     "output_type": "stream",
     "text": [
      "Requirement already satisfied: opencv-python in c:\\users\\miche\\anaconda3\\lib\\site-packages (4.5.1.48)\n",
      "Requirement already satisfied: numpy>=1.17.3 in c:\\users\\miche\\anaconda3\\lib\\site-packages (from opencv-python) (1.19.2)\n"
     ]
    }
   ],
   "source": [
    "!pip install opencv-python"
   ]
  },
  {
   "cell_type": "markdown",
   "metadata": {},
   "source": [
    "from tkinter import * \n",
    "import PIL \n",
    "from PIL import Image, ImageDraw \n",
    "import tensorflow as tf\n",
    "import cv2"
   ]
  },
  {
   "cell_type": "code",
   "execution_count": 134,
   "metadata": {},
   "outputs": [],
   "source": [
    "from tkinter import *\n",
    "import PIL\n",
    "from PIL import Image, ImageDraw\n",
    "import tensorflow as tf\n",
    "import matplotlib.pyplot as plt\n",
    "import cv2\n",
    "import pandas as pd\n",
    "import numpy as np\n",
    "from matplotlib import pyplot as plt\n",
    "from tensorflow.keras.models import Sequential\n",
    "from tensorflow.keras.layers import Dense, Dropout, Activation, Flatten, Conv2D, MaxPooling2D\n",
    "from keras.utils.np_utils import to_categorical\n",
    "from keras.optimizers import Adam\n",
    "import numpy as np"
   ]
  },
  {
   "cell_type": "code",
   "execution_count": 135,
   "metadata": {},
   "outputs": [
    {
     "data": {
      "text/plain": [
       "(60000, 28, 28)"
      ]
     },
     "execution_count": 135,
     "metadata": {},
     "output_type": "execute_result"
    }
   ],
   "source": [
    "mnist = tf.keras.datasets.mnist \n",
    "#contains handwritten characters \n",
    "(x_train, y_train),(x_test, y_test) = mnist.load_data()\n",
    "x_train.shape"
   ]
  },
  {
   "cell_type": "code",
   "execution_count": 136,
   "metadata": {},
   "outputs": [
    {
     "data": {
      "image/png": "[encoded data removed]",
      "text/plain": [
       "<Figure size 432x288 with 1 Axes>"
      ]
     },
     "metadata": {
      "needs_background": "light"
     },
     "output_type": "display_data"
    },
    {
     "name": "stdout",
     "output_type": "stream",
     "text": [
      "5\n"
     ]
    },
    {
     "data": {
      "image/png": "[encoded data removed]",
      "text/plain": [
       "<Figure size 432x288 with 1 Axes>"
      ]
     },
     "metadata": {
      "needs_background": "light"
     },
     "output_type": "display_data"
    }
   ],
   "source": [
    "import matplotlib.pyplot as plt\n",
    "plt.imshow(x_train[0],cmap=\"gray\")\n",
    "plt.show() #used to execute the graph\n",
    "#plotting the graph\n",
    "plt.imshow(x_train[0], cmap = plt.cm.binary)\n",
    "#normalizing the data \n",
    "x_train = tf.keras.utils.normalize (x_train, axis = 1)\n",
    "x_test = tf.keras.utils.normalize(x_test, axis=1)\n",
    "plt.imshow(x_train[0], cmap = plt.cm.binary)\n",
    "print (y_train[0])"
   ]
  },
  {
   "cell_type": "code",
   "execution_count": 138,
   "metadata": {},
   "outputs": [
    {
     "name": "stdout",
     "output_type": "stream",
     "text": [
      "training dimension: (60000, 28, 28, 1)\n",
      "training dimension: (60000,)\n",
      "training dimension: (10000, 28, 28, 1)\n",
      "training dimension: (10000,)\n"
     ]
    }
   ],
   "source": [
    "\n",
    "IMG_SIZE=28\n",
    "x_train= np.array(x_train).reshape(60000, IMG_SIZE, IMG_SIZE,1)\n",
    "x_test= np.array(x_test).reshape(10000, IMG_SIZE, IMG_SIZE,1)\n",
    "\n",
    "print (\"training dimension: {}\".format(x_train.shape))\n",
    "print (\"training dimension: {}\".format(y_train.shape))\n",
    "print (\"training dimension: {}\".format(x_test.shape))\n",
    "print (\"training dimension: {}\".format(y_test.shape))"
   ]
  },
  {
   "cell_type": "code",
   "execution_count": 139,
   "metadata": {},
   "outputs": [],
   "source": [
    "y_train=to_categorical(y_train)\n",
    "y_test=to_categorical(y_test)"
   ]
  },
  {
   "cell_type": "code",
   "execution_count": 140,
   "metadata": {},
   "outputs": [],
   "source": [
    "model = Sequential()\n",
    "\n",
    "#first convolution layer\n",
    "model.add(Conv2D(32, (3,3), input_shape = (28,28,1)))\n",
    "model.add(Activation(\"relu\"))\n",
    "model.add(MaxPooling2D(pool_size=(2,2)))\n",
    "\n",
    "#second convolution layer\n",
    "model.add(Conv2D(64, (3,3)))\n",
    "model.add(Activation(\"relu\"))\n",
    "model.add(MaxPooling2D(pool_size=(2,2)))\n",
    "\n",
    "#connected layer for 2 \n",
    "model.add (Flatten())\n",
    "\n",
    "#last fully connected layer \n",
    "model.add(Dense(10))\n",
    "model.add(Activation('softmax'))\n"
   ]
  },
  {
   "cell_type": "code",
   "execution_count": 141,
   "metadata": {},
   "outputs": [
    {
     "name": "stdout",
     "output_type": "stream",
     "text": [
      "Model: \"sequential_5\"\n",
      "_________________________________________________________________\n",
      "Layer (type)                 Output Shape              Param #   \n",
      "=================================================================\n",
      "conv2d_10 (Conv2D)           (None, 26, 26, 32)        320       \n",
      "_________________________________________________________________\n",
      "activation_18 (Activation)   (None, 26, 26, 32)        0         \n",
      "_________________________________________________________________\n",
      "max_pooling2d_10 (MaxPooling (None, 13, 13, 32)        0         \n",
      "_________________________________________________________________\n",
      "conv2d_11 (Conv2D)           (None, 11, 11, 64)        18496     \n",
      "_________________________________________________________________\n",
      "activation_19 (Activation)   (None, 11, 11, 64)        0         \n",
      "_________________________________________________________________\n",
      "max_pooling2d_11 (MaxPooling (None, 5, 5, 64)          0         \n",
      "_________________________________________________________________\n",
      "flatten_5 (Flatten)          (None, 1600)              0         \n",
      "_________________________________________________________________\n",
      "dense_8 (Dense)              (None, 10)                16010     \n",
      "_________________________________________________________________\n",
      "activation_20 (Activation)   (None, 10)                0         \n",
      "=================================================================\n",
      "Total params: 34,826\n",
      "Trainable params: 34,826\n",
      "Non-trainable params: 0\n",
      "_________________________________________________________________\n"
     ]
    }
   ],
   "source": [
    "model.summary()"
   ]
  },
  {
   "cell_type": "code",
   "execution_count": 142,
   "metadata": {},
   "outputs": [
    {
     "name": "stdout",
     "output_type": "stream",
     "text": [
      "Total Training Samples =  60000\n"
     ]
    }
   ],
   "source": [
    "print (\"Total Training Samples = \",len(x_train))"
   ]
  },
  {
   "cell_type": "code",
   "execution_count": 143,
   "metadata": {},
   "outputs": [],
   "source": [
    "model.compile(loss = \"categorical_crossentropy\", optimizer = \"adam\", metrics=['accuracy'])"
   ]
  },
  {
   "cell_type": "code",
   "execution_count": 144,
   "metadata": {},
   "outputs": [
    {
     "name": "stdout",
     "output_type": "stream",
     "text": [
      "Epoch 1/5\n",
      "1875/1875 [==============================] - 24s 13ms/step - loss: 0.4268 - accuracy: 0.8717 - val_loss: 0.0703 - val_accuracy: 0.9755\n",
      "Epoch 2/5\n",
      "1875/1875 [==============================] - 24s 13ms/step - loss: 0.0702 - accuracy: 0.9780 - val_loss: 0.0476 - val_accuracy: 0.9842\n",
      "Epoch 3/5\n",
      "1875/1875 [==============================] - 27s 15ms/step - loss: 0.0493 - accuracy: 0.9860 - val_loss: 0.0462 - val_accuracy: 0.9847\n",
      "Epoch 4/5\n",
      "1875/1875 [==============================] - 28s 15ms/step - loss: 0.0358 - accuracy: 0.9893 - val_loss: 0.0356 - val_accuracy: 0.9878\n",
      "Epoch 5/5\n",
      "1875/1875 [==============================] - 25s 13ms/step - loss: 0.0295 - accuracy: 0.9914 - val_loss: 0.0331 - val_accuracy: 0.9893\n"
     ]
    },
    {
     "data": {
      "text/plain": [
       "<tensorflow.python.keras.callbacks.History at 0x195eb8592b0>"
      ]
     },
     "execution_count": 144,
     "metadata": {},
     "output_type": "execute_result"
    }
   ],
   "source": [
    "#training model \n",
    "model.fit(x_train,y_train,epochs=5, validation_data= (x_test,y_test))"
   ]
  },
  {
   "cell_type": "code",
   "execution_count": 145,
   "metadata": {},
   "outputs": [
    {
     "name": "stdout",
     "output_type": "stream",
     "text": [
      "313/313 [==============================] - 1s 4ms/step - loss: 0.0331 - accuracy: 0.9893\n",
      "Test loss on test samples 0.03310098499059677\n",
      "Validation Accuracy on 10,000 test samples 0.989300012588501\n"
     ]
    }
   ],
   "source": [
    "test_loss, test_acc = model.evaluate(x_test, y_test)\n",
    "print (\"Test loss on test samples\", test_loss)\n",
    "print (\"Validation Accuracy on 10,000 test samples\", test_acc)"
   ]
  },
  {
   "cell_type": "code",
   "execution_count": 154,
   "metadata": {},
   "outputs": [
    {
     "name": "stdout",
     "output_type": "stream",
     "text": [
      "Prediction (softmax):\n",
      "[[9.9892247e-01 1.0981596e-10 2.3242690e-05 8.5238480e-07 2.1810767e-12\n",
      "  3.2216343e-04 1.1559462e-05 1.6736378e-10 5.1839593e-06 7.1462413e-04]]\n",
      "Prediction (hardmax):\n",
      "[[1. 0. 0. 0. 0. 0. 0. 0. 0. 0.]]\n"
     ]
    },
    {
     "data": {
      "image/png": "[encoded data removed]",
      "text/plain": [
       "<Figure size 432x288 with 1 Axes>"
      ]
     },
     "metadata": {
      "needs_background": "light"
     },
     "output_type": "display_data"
    },
    {
     "name": "stdout",
     "output_type": "stream",
     "text": [
      "Final output: 0\n"
     ]
    }
   ],
   "source": [
    "example=x_train[108]\n",
    "prediction = model.predict(example.reshape(1,28,28,1))\n",
    "print (\"Prediction (softmax):\\n{}\".format(prediction))\n",
    "\n",
    "hard_prediction = np.zeros(prediction.shape)\n",
    "hard_prediction[0][np.argmax(prediction)] = 1\n",
    "print (\"Prediction (hardmax):\\n{}\".format(hard_prediction))\n",
    "\n",
    "plt.imshow(example.reshape(28,28),cmap=\"gray\")\n",
    "plt.show()\n",
    "\n",
    "print(\"Final output: {}\".format(np.argmax(prediction)))"
   ]
  },
  {
   "cell_type": "code",
   "execution_count": 185,
   "metadata": {},
   "outputs": [
    {
     "name": "stdout",
     "output_type": "stream",
     "text": [
      "Image file loaded.\n"
     ]
    },
    {
     "data": {
      "image/png": "[encoded data removed]",
      "text/plain": [
       "<Figure size 432x288 with 1 Axes>"
      ]
     },
     "metadata": {
      "needs_background": "light"
     },
     "output_type": "display_data"
    },
    {
     "data": {
      "image/png": "[encoded data removed]",
      "text/plain": [
       "<Figure size 432x288 with 1 Axes>"
      ]
     },
     "metadata": {
      "needs_background": "light"
     },
     "output_type": "display_data"
    },
    {
     "name": "stdout",
     "output_type": "stream",
     "text": [
      "Current predictions: ['2']\n"
     ]
    },
    {
     "data": {
      "image/png": "[encoded data removed]",
      "text/plain": [
       "<Figure size 432x288 with 1 Axes>"
      ]
     },
     "metadata": {
      "needs_background": "light"
     },
     "output_type": "display_data"
    },
    {
     "name": "stdout",
     "output_type": "stream",
     "text": [
      "Current predictions: ['2', '5']\n"
     ]
    },
    {
     "data": {
      "image/png": "[encoded data removed]",
      "text/plain": [
       "<Figure size 432x288 with 1 Axes>"
      ]
     },
     "metadata": {
      "needs_background": "light"
     },
     "output_type": "display_data"
    },
    {
     "name": "stdout",
     "output_type": "stream",
     "text": [
      "Current predictions: ['2', '5', '4']\n"
     ]
    }
   ],
   "source": [
    "global predictions\n",
    "global padded \n",
    "global counter\n",
    "predictions = []\n",
    "padded=[]\n",
    "\n",
    "image1=PIL.Image.new('RGB',(600,400),'white')\n",
    "draw=ImageDraw.Draw(image1)\n",
    "\n",
    "def detection(img_num): \n",
    "    global predictions \n",
    "    global padded\n",
    "    global counter \n",
    "    \n",
    "    counter=0\n",
    "    #load image file \n",
    "    filename=f'image_{img_num}.png'\n",
    "    img=cv2.imread(filename)\n",
    "    print(\"Image file loaded.\")\n",
    "    plt.imshow(img)\n",
    "    \n",
    "    #Pad the digits in the image and load into list \n",
    "    gray = cv2.cvtColor(img, cv2.COLOR_BGR2GRAY)\n",
    "    ret,thresh=cv2.threshold(gray.copy(),28,28,cv2.THRESH_BINARY_INV)\n",
    "    contours,_=cv2.findContours(thresh.copy(),cv2.RETR_EXTERNAL,cv2.CHAIN_APPROX_SIMPLE)\n",
    "    for c in contours:\n",
    "        x,y,w,h=cv2.boundingRect(c)\n",
    "        cv2.rectangle(img,(x,y),(x+w,y+h),color=(0,255,0),thickness=2)\n",
    "        digit=thresh[y:y+h,x:x+w]\n",
    "        resized_digit=cv2.resize(digit,(18,18))\n",
    "        padded_digit=np.pad(resized_digit,((5,5),(5,5)),\"constant\",constant_values=0)\n",
    "        padded.append(padded_digit)\n",
    "    plt.imshow(img,cmap=\"gray\")\n",
    "    plt.show()\n",
    "    inp=np.array(padded)\n",
    "    \n",
    "    #pre process each image in list for classification \n",
    "    for digit in padded:\n",
    "        counter=counter+1\n",
    "        detected = model.predict(digit.reshape(1,28,28,1))\n",
    "        o.insert(END,(str(np.argmax(detected))))\n",
    "        plt.imshow(digit.reshape(28,28),cmap=\"gray\")\n",
    "        plt.show()\n",
    "        predictions.append(format(np.argmax(detected)))\n",
    "        print(\"Current predictions: {}\".format(predictions))\n",
    "    \n",
    "def paint(event):\n",
    "    global lastx, lasty\n",
    "    x, y = event.x, event.y\n",
    "    c.create_line((lastx, lasty, x, y), fill='black',width=5)\n",
    "    draw.line((lastx, lasty, x, y), fill='black', width=5)\n",
    "    lastx, lasty = x, y\n",
    "\n",
    "def activate(event):\n",
    "    global lastx, lasty\n",
    "    c.bind('<B1-Motion>',paint)\n",
    "    lastx,lasty=event.x,event.y\n",
    "    \n",
    "def save():\n",
    "    global img_num \n",
    "    filename=f'image_{img_num}.png'\n",
    "    image1.save(filename)\n",
    "    detection(img_num)\n",
    "    img_num +=1\n",
    "\n",
    "def clear():\n",
    "    global padded\n",
    "    padded.clear()\n",
    "    c.delete(ALL)\n",
    "    o.delete(\"1.0\",\"end\")\n",
    "    draw.rectangle((0, 0, 600, 400), fill=\"white\")\n",
    "    \n",
    "def incorrect():\n",
    "    global counter \n",
    "    global predictions \n",
    "    global padded\n",
    "    \n",
    "    predictions=predictions[:len(predictions)-counter]\n",
    "    print(\"Revised predictions: {}\".format(predictions))\n",
    "    \n",
    "    c.delete(ALL)\n",
    "    o.delete(\"1.0\",\"end\")\n",
    "    draw.rectangle((0, 0, 600, 400), fill=\"white\")\n",
    "    padded.clear()\n",
    "    counter=0\n",
    "\n",
    "def result():\n",
    "    print(\"Final prediction list: {}\".format(predictions))\n",
    "    o.insert(END,(str(np.argmax(predictions))))\n",
    "    \n",
    "window=Tk()\n",
    "window.title(\"Handwriting Recognition\")\n",
    "message=Label(window,text='Draw some numbers below')\n",
    "message.pack(side=TOP)\n",
    "lastx,lasty=None,None\n",
    "img_num=0\n",
    "counter=0\n",
    "\n",
    "c=Canvas(window,width=600,height=400, bg='white')\n",
    "c.bind('<1>',activate)\n",
    "c.pack(expand=YES, fill=BOTH)\n",
    "\n",
    "message=Label(window,text='Output box:')\n",
    "message.pack(side=TOP)\n",
    "o=Text(window,width=20,height=2,bg='light cyan')\n",
    "o.pack()\n",
    "\n",
    "button_save=Button(window,text=\"Save\",width=25,command=save)\n",
    "button_save.pack()\n",
    "\n",
    "button_clear=Button(window,text=\"Clear screen\",width=25,command=clear)\n",
    "button_clear.pack()\n",
    "\n",
    "button_incorrect=Button(window,text=\"Incorrect\",width=25,command=incorrect)\n",
    "button_incorrect.pack()\n",
    "\n",
    "button_result=Button(window,text=\"Final list\",width=25,command=result)\n",
    "button_result.pack()\n",
    "\n",
    "message=Label(window,text='Click save after your drawing.\\n If output is correct, clear screen and draw again. Number(s) will be added to list.\\n Otherwise click incorrect if prediction is wrong and number will be erased from list.')\n",
    "message.pack(side=TOP)\n",
    "window.mainloop()"
   ]
  },
  {
   "cell_type": "code",
   "execution_count": null,
   "metadata": {},
   "outputs": [],
   "source": []
  }
 ],
 "metadata": {
  "kernelspec": {
   "display_name": "Python 3",
   "language": "python",
   "name": "python3"
  },
  "language_info": {
   "codemirror_mode": {
    "name": "ipython",
    "version": 3
   },
   "file_extension": ".py",
   "mimetype": "text/x-python",
   "name": "python",
   "nbconvert_exporter": "python",
   "pygments_lexer": "ipython3",
   "version": "3.8.5"
  }
 },
 "nbformat": 4,
 "nbformat_minor": 4
}
